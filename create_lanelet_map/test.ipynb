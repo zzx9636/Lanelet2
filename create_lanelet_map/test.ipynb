{
 "cells": [
  {
   "cell_type": "code",
   "execution_count": 1,
   "metadata": {},
   "outputs": [],
   "source": [
    "%load_ext autoreload\n",
    "%autoreload 2"
   ]
  },
  {
   "cell_type": "code",
   "execution_count": 156,
   "metadata": {},
   "outputs": [],
   "source": [
    "import lanelet2\n",
    "from lanelet2.core import (AllWayStop, AttributeMap, BasicPoint2d,\n",
    "                            BoundingBox2d, Lanelet, LaneletMap,\n",
    "                            LaneletWithStopLine, LineString2d, LineString3d, Point2d, Point3d,\n",
    "                            RightOfWay, TrafficLight, getId)\n",
    "from lanelet2.projection import (UtmProjector, MercatorProjector,\n",
    "                                    LocalCartesianProjector, GeocentricProjector)\n",
    "\n",
    "import numpy as np"
   ]
  },
  {
   "cell_type": "code",
   "execution_count": 162,
   "metadata": {},
   "outputs": [],
   "source": [
    "def gen_point(pt):\n",
    "    '''\n",
    "    Generate a Lanelet2::Point2d object from a tuple/list/nparray of 2d coordinates\n",
    "    '''\n",
    "    \n",
    "    return Point3d(getId(), float(pt[0]), float(pt[1]), 0.0)\n",
    "\n",
    "def gen_line_string(pts):\n",
    "    '''\n",
    "    Generate a Lanelet2::LineString2d object from a list of array of 2d coordinates\n",
    "    pts: [2,n] array\n",
    "    '''\n",
    "    d,n = pts.shape\n",
    "    assert d == 2, \"pts should be a [n,2] array\"\n",
    "    line_string = LineString3d(getId(),[])\n",
    "    line_string.attributes[\"type\"] = \"line_thin\"\n",
    "    line_string.attributes[\"subtype\"] = \"dashed\"\n",
    "    for i in range(n):\n",
    "        line_string.append(gen_point(pts[:,i]))\n",
    "    return line_string\n",
    "\n",
    "def gen_lanlet(left_pts, right_pts):\n",
    "    left_line_string = gen_line_string(left_pts)\n",
    "    right_line_string = gen_line_string(right_pts)\n",
    "    lanelet = Lanelet(getId(), left_line_string, right_line_string)\n",
    "    # lanelet.attributes[\"vehicle\"] = \"yes\"\n",
    "    lanelet.attributes[\"type\"] = \"lanelet\"\n",
    "    lanelet.attributes[\"subtype\"] = \"road\"\n",
    "    lanelet.attributes[\"location\"] = \"urban\"\n",
    "    return lanelet\n",
    "    "
   ]
  },
  {
   "cell_type": "code",
   "execution_count": 163,
   "metadata": {},
   "outputs": [],
   "source": [
    "r1 = np.array([[0,5],\n",
    "                [0,0]])\n",
    "c1 = np.array([[0,5],\n",
    "                [3,3]])\n",
    "l1 = np.array([[0,5],\n",
    "                [6,6]])\n",
    "\n",
    "r2 = np.array([[5,10],\n",
    "                [0,1]])\n",
    "l2 = np.array([[5,10],\n",
    "                [3,4]])\n",
    "\n",
    "r3 = np.array([[5,10],\n",
    "                [0,-4]])\n",
    "l3 = np.array([[5,10],\n",
    "                [3,-1]])\n",
    "\n",
    "\n",
    "r4 = np.array([[10,15],\n",
    "                [-4,-4]])\n",
    "l4 = np.array([[10,15],\n",
    "                [-1,-1]])\n",
    "\n",
    "r5 = np.array([[10,15],\n",
    "                [4,4]])\n",
    "l5 = np.array([[10,15],\n",
    "                [1,1]])\n"
   ]
  },
  {
   "cell_type": "code",
   "execution_count": 178,
   "metadata": {},
   "outputs": [],
   "source": [
    "pt1_l = gen_point([0,0])\n",
    "pt2_l = gen_point([5,0])\n",
    "pt3_l = gen_point([10,0])\n",
    "\n",
    "pt1_r = gen_point([0,3])\n",
    "pt2_r = gen_point([5,3])\n",
    "pt3_r = gen_point([10,3])\n",
    "\n",
    "l1_l = LineString3d(getId(),[pt1_l,pt2_l])\n",
    "l2_l = LineString3d(getId(),[pt2_l,pt3_l])\n",
    "\n",
    "l1_r = LineString3d(getId(),[pt1_r,pt2_r])\n",
    "l2_r = LineString3d(getId(),[pt2_r,pt3_r])\n",
    "\n",
    "lane1 = Lanelet(getId(),l1_l,l1_r)\n",
    "lane2 = Lanelet(getId(),l2_l,l2_r)\n"
   ]
  },
  {
   "cell_type": "code",
   "execution_count": 186,
   "metadata": {},
   "outputs": [],
   "source": [
    "projector = LocalCartesianProjector(lanelet2.io.Origin(0, 0, 0))\n",
    "\n",
    "\n",
    "map = LaneletMap()\n",
    "path = \"test.osm\"\n",
    "# lane1 = gen_lanlet(l1, c1)\n",
    "# lane1_left = gen_lanlet(c1, l1)\n",
    "# lane2 = gen_lanlet(l2, r2)\n",
    "# lane3 = gen_lanlet(l3, r3)\n",
    "# lane4 = gen_lanlet(l4, r4)\n",
    "# lane5 = gen_lanlet(l5, r5)\n",
    "\n",
    "map.add(lane1)\n",
    "# map.add(lane1_left)\n",
    "map.add(lane2)\n",
    "# map.add(lane3)\n",
    "# map.add(lane4)\n",
    "# map.add(lane5)\n",
    "\n",
    "\n",
    "traffic_rules = lanelet2.traffic_rules.create(lanelet2.traffic_rules.Locations.Germany,\n",
    "                                                lanelet2.traffic_rules.Participants.Vehicle)\n",
    "\n",
    "graph = lanelet2.routing.RoutingGraph(map, traffic_rules) \n",
    "graph.checkValidity()\n",
    "\n",
    "# lanelet2.io.writeRobust(path, map, projector)\n"
   ]
  },
  {
   "cell_type": "code",
   "execution_count": 121,
   "metadata": {},
   "outputs": [
    {
     "name": "stdout",
     "output_type": "stream",
     "text": [
      "10.000000176788873 4.000000101510982\n",
      "10.000000176788873 -0.9999994725062403\n",
      "4.999999531793911 2.9999995232588974\n",
      "4.999999531793911 2.9999995232588974\n",
      "0.0 2.9999995232579693\n"
     ]
    }
   ],
   "source": [
    "loadmap = lanelet2.io.load(path, projector)\n",
    "for lanelet in loadmap.laneletLayer:\n",
    "    print(lanelet.leftBound[0].x, lanelet.leftBound[0].y)\n"
   ]
  }
 ],
 "metadata": {
  "kernelspec": {
   "display_name": "ros_base",
   "language": "python",
   "name": "python3"
  },
  "language_info": {
   "codemirror_mode": {
    "name": "ipython",
    "version": 3
   },
   "file_extension": ".py",
   "mimetype": "text/x-python",
   "name": "python",
   "nbconvert_exporter": "python",
   "pygments_lexer": "ipython3",
   "version": "3.9.15"
  },
  "orig_nbformat": 4,
  "vscode": {
   "interpreter": {
    "hash": "7568f0ba5f4aa6b4771c1bfaa80032ca4a9c3cb4e7689d750c939fd1994746c1"
   }
  }
 },
 "nbformat": 4,
 "nbformat_minor": 2
}
